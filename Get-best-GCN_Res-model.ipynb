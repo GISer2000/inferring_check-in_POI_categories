{
 "cells": [
  {
   "cell_type": "code",
   "execution_count": 1,
   "id": "f41a7418-c073-4be5-81cc-5369514fbe34",
   "metadata": {
    "execution": {
     "iopub.execute_input": "2024-09-28T14:34:50.763778Z",
     "iopub.status.busy": "2024-09-28T14:34:50.762942Z",
     "iopub.status.idle": "2024-09-28T14:34:54.491778Z",
     "shell.execute_reply": "2024-09-28T14:34:54.490761Z",
     "shell.execute_reply.started": "2024-09-28T14:34:50.763715Z"
    }
   },
   "outputs": [],
   "source": [
    "import os\n",
    "import pandas as pd\n",
    "import numpy as np\n",
    "\n",
    "import torch\n",
    "import torch.nn as nn\n",
    "import torch.nn.functional as F\n",
    "from torch_geometric.nn import GCNConv\n",
    "\n",
    "import matplotlib.pyplot as plt\n",
    "from sklearn.metrics import confusion_matrix\n",
    "from sklearn.metrics import accuracy_score, precision_score, recall_score, f1_score\n",
    "\n",
    "device = torch.device('cuda' if torch.cuda.is_available() else 'cpu')"
   ]
  },
  {
   "cell_type": "code",
   "execution_count": 2,
   "id": "bd4b9859-6cd7-4066-b1f5-3fa87137cd32",
   "metadata": {
    "execution": {
     "iopub.execute_input": "2024-09-28T14:34:54.493133Z",
     "iopub.status.busy": "2024-09-28T14:34:54.492688Z",
     "iopub.status.idle": "2024-09-28T14:34:54.496895Z",
     "shell.execute_reply": "2024-09-28T14:34:54.496219Z",
     "shell.execute_reply.started": "2024-09-28T14:34:54.493111Z"
    }
   },
   "outputs": [],
   "source": [
    "index_to_label = {\n",
    "    0: 'Catering',\n",
    "    1: 'Education',\n",
    "    2: 'Medical',\n",
    "    3: 'Outdoor',\n",
    "    4: 'Residential',\n",
    "    5: 'Shopping',\n",
    "    6: 'Tourism',\n",
    "    7: 'Transport',\n",
    "    8: 'Office'\n",
    "}"
   ]
  },
  {
   "cell_type": "markdown",
   "id": "6aceab81-a4a2-410e-9512-ce6de1a42ed5",
   "metadata": {},
   "source": [
    "## Model"
   ]
  },
  {
   "cell_type": "code",
   "execution_count": 3,
   "id": "e39e5fe4-063c-4e81-ba2a-46f04543f58f",
   "metadata": {
    "execution": {
     "iopub.execute_input": "2024-09-28T14:34:54.500167Z",
     "iopub.status.busy": "2024-09-28T14:34:54.499989Z",
     "iopub.status.idle": "2024-09-28T14:34:54.508434Z",
     "shell.execute_reply": "2024-09-28T14:34:54.507799Z",
     "shell.execute_reply.started": "2024-09-28T14:34:54.500148Z"
    }
   },
   "outputs": [],
   "source": [
    "class GCN_RES(nn.Module):\n",
    "    def __init__(self, dim_in, dim_h, dim_out, num_layers=5):\n",
    "        super(GCN_RES, self).__init__()\n",
    "        # 网络层数\n",
    "        self.num_layers = num_layers\n",
    "\n",
    "        self.convs = nn.ModuleList()\n",
    "        self.norms = nn.ModuleList()\n",
    "\n",
    "        # 输入层\n",
    "        self.convs.append(GCNConv(dim_in, dim_h))\n",
    "        self.norms.append(nn.LayerNorm(dim_h))\n",
    "        \n",
    "        # 中间层\n",
    "        for _ in range(num_layers - 2):\n",
    "            self.convs.append(GCNConv(dim_h, dim_h))\n",
    "            self.norms.append(nn.LayerNorm(dim_h))\n",
    "        \n",
    "        # 输出层\n",
    "        self.convs.append(GCNConv(dim_h, dim_out))\n",
    "        self.norms.append(nn.LayerNorm(dim_out))\n",
    "\n",
    "        self.apply(self.weights_init)\n",
    "\n",
    "    def weights_init(self, m):\n",
    "        if isinstance(m, nn.Linear):\n",
    "            nn.init.xavier_uniform_(m.weight.data)\n",
    "            if m.bias is not None:\n",
    "                m.bias.data.fill_(0.0)\n",
    "\n",
    "    def forward(self, x, edge_index, edge_weight=None):\n",
    "        for i in range(self.num_layers):\n",
    "            if i == 0:\n",
    "                h = self.convs[i](x, edge_index, edge_weight)\n",
    "                h = self.norms[i](h)\n",
    "                res = F.relu(h) + x\n",
    "                h = F.dropout(res, p=0.6, training=self.training)\n",
    "                \n",
    "            elif i != (self.num_layers - 1):\n",
    "                h = self.convs[i](h, edge_index, edge_weight)\n",
    "                h = self.norms[i](h)\n",
    "                res = F.relu(h) + res\n",
    "                h = F.dropout(res, p=0.6, training=self.training)\n",
    "                \n",
    "            else:\n",
    "                h = self.convs[i](h, edge_index, edge_weight)\n",
    "                h = self.norms[i](h)\n",
    "\n",
    "        return h"
   ]
  },
  {
   "cell_type": "markdown",
   "id": "fcadc1c8-fdba-4a7b-9211-15b9c938dd21",
   "metadata": {},
   "source": [
    "## Train"
   ]
  },
  {
   "cell_type": "code",
   "execution_count": 7,
   "id": "ec976829-85e8-44aa-821d-99c500771446",
   "metadata": {
    "execution": {
     "iopub.execute_input": "2024-09-28T14:08:54.150558Z",
     "iopub.status.busy": "2024-09-28T14:08:54.150136Z",
     "iopub.status.idle": "2024-09-28T14:08:54.160502Z",
     "shell.execute_reply": "2024-09-28T14:08:54.159674Z",
     "shell.execute_reply.started": "2024-09-28T14:08:54.150527Z"
    }
   },
   "outputs": [],
   "source": [
    "def train(model, data, optimizer, criterion, save_model, epochs=200):\n",
    "    train_loss = []\n",
    "    val_loss = []\n",
    "    val_accs = []\n",
    "    \n",
    "    early_stopping_counter = 0\n",
    "    max_acc = 0.0\n",
    "\n",
    "    model.train()\n",
    "    for epoch in range(epochs+1):\n",
    "        data = data.to(device)\n",
    "        optimizer.zero_grad()\n",
    "        _ = model(data.x, data.edge_index, data.edge_attr)\n",
    "        out = F.log_softmax(_, dim=1)\n",
    "\n",
    "        loss = criterion(out[data.train_mask], data.y[data.train_mask])\n",
    "        train_loss.append(loss.item())\n",
    "\n",
    "        loss.backward()\n",
    "        optimizer.step()\n",
    "\n",
    "        preds = out.argmax(dim=1)[data.train_mask].cpu()\n",
    "        acc = accuracy_score(data.y[data.train_mask].cpu(), preds)\n",
    "\n",
    "        f1 = f1_score(data.y[data.train_mask].cpu(), preds, average='macro')\n",
    "\n",
    "        model.eval()\n",
    "        with torch.no_grad():\n",
    "            val_loss_ = criterion(out[data.val_mask], data.y[data.val_mask])\n",
    "            val_loss.append(val_loss_.item())\n",
    "            \n",
    "            _ = model(data.x, data.edge_index, data.edge_attr)\n",
    "            out = F.log_softmax(_, dim=1)\n",
    "            \n",
    "            val_acc = accuracy_score(data.y[data.val_mask].cpu(), out.argmax(dim=1)[data.val_mask].cpu())\n",
    "            val_accs.append(val_acc)\n",
    "\n",
    "            # 早停策略\n",
    "            if val_acc > max_acc:\n",
    "                max_acc = val_acc\n",
    "                early_stopping_counter = 0\n",
    "                torch.save(model, save_model)\n",
    "            else:\n",
    "                early_stopping_counter += 1\n",
    "                if early_stopping_counter >= 20 and epoch >=100: break\n",
    "\n",
    "        if epoch % 10 == 0:\n",
    "            print(f'Epoch [{epoch:03d}/{epochs}], Train_Loss: {loss.item():0.3f}, Val_Loss: {val_loss[-1]:0.3f}, Val_acc: {max(val_accs):.3f}')\n",
    "            val_accs = []"
   ]
  },
  {
   "cell_type": "markdown",
   "id": "478704e7-d2f5-4bd3-a870-999307556e74",
   "metadata": {},
   "source": [
    "## Test"
   ]
  },
  {
   "cell_type": "code",
   "execution_count": 29,
   "id": "c5504f7c-75c0-4931-a505-b14ee9bc78cc",
   "metadata": {
    "execution": {
     "iopub.execute_input": "2024-09-28T14:49:19.969326Z",
     "iopub.status.busy": "2024-09-28T14:49:19.968652Z",
     "iopub.status.idle": "2024-09-28T14:49:19.990221Z",
     "shell.execute_reply": "2024-09-28T14:49:19.988962Z",
     "shell.execute_reply.started": "2024-09-28T14:49:19.969273Z"
    }
   },
   "outputs": [],
   "source": [
    "def test(model, data):\n",
    "    model.eval()\n",
    "    _ = model(data.x, data.edge_index, data.edge_attr)\n",
    "    out = F.log_softmax(_, dim=1)\n",
    "    \n",
    "    y_pred = out.argmax(dim=1)[data.val_mask].cpu()\n",
    "    y_true = data.y[data.val_mask].cpu()\n",
    "    \n",
    "    accuracy = accuracy_score(y_true, y_pred)\n",
    "    precision = precision_score(y_true, y_pred, average='macro')\n",
    "    recall = recall_score(y_true, y_pred, average='macro')\n",
    "    f1 = f1_score(y_true, y_pred, average='macro')\n",
    "    \n",
    "    fig, ax = plt.subplots(1,1, figsize=(18,6))\n",
    "    cm = confusion_matrix(y_true, y_pred)\n",
    "    cm_normal = cm.astype('float') / cm.sum(axis=1)[:, np.newaxis]  # 归一化\n",
    "    ticks = list(index_to_label.keys())\n",
    "    labels = list(index_to_label.values())\n",
    "    ax.set_xticks(ticks)\n",
    "    ax.set_yticks(ticks)\n",
    "    ax.set_xticklabels(labels, rotation=90)\n",
    "    ax.set_yticklabels(labels)\n",
    "    im = ax.imshow(cm_normal, interpolation='nearest', cmap=plt.get_cmap('Blues'))\n",
    "    im.set_clim(0.0, 1.0)\n",
    "    for i in range(np.shape(cm_normal)[0]):\n",
    "        for j in range(np.shape(cm_normal)[1]):\n",
    "            if int(cm_normal[i][j] * 100 + 0.5) >= 0:\n",
    "                ax.text(j, i, '('+str(cm[i][j])+')' + '\\n' + str(round(cm_normal[i][j]*100,1))+'%',\n",
    "                         ha=\"center\", va=\"center\", fontsize=10,\n",
    "                         color=\"white\" if cm_normal[i][j] > 0.8 else \"black\")  # 如果要更改颜色风格，需要同时更改此行\n",
    "    plt.colorbar(im, ax=ax)\n",
    "    plt.tight_layout()\n",
    "    plt.show()\n",
    "\n",
    "    \n",
    "    result = {}\n",
    "    result['accuracy'] = accuracy\n",
    "    result['precision'] = precision\n",
    "    result['recall'] = recall\n",
    "    result['f1'] = f1\n",
    "    return result"
   ]
  },
  {
   "cell_type": "markdown",
   "id": "57be32cb-618a-4048-b191-10c16be93a0b",
   "metadata": {},
   "source": [
    "## Experience"
   ]
  },
  {
   "cell_type": "code",
   "execution_count": 6,
   "id": "a501e807-fd6e-4d37-a3cb-d98d6dbce090",
   "metadata": {
    "execution": {
     "iopub.execute_input": "2024-09-28T14:34:54.813570Z",
     "iopub.status.busy": "2024-09-28T14:34:54.813287Z",
     "iopub.status.idle": "2024-09-28T14:34:54.817163Z",
     "shell.execute_reply": "2024-09-28T14:34:54.816282Z",
     "shell.execute_reply.started": "2024-09-28T14:34:54.813551Z"
    }
   },
   "outputs": [],
   "source": [
    "path_dataset = 'data/final_data/dataset_torch/'\n",
    "layers = [2, 2, 3]\n",
    "path_model_out = 'data/final_data/model/'"
   ]
  },
  {
   "cell_type": "markdown",
   "id": "c6bf284f-9171-491f-8a36-6d4866d145e0",
   "metadata": {},
   "source": [
    "### finetune bert"
   ]
  },
  {
   "cell_type": "code",
   "execution_count": 9,
   "id": "dd6d5099-3930-4063-b0c6-c2d51f0de55b",
   "metadata": {
    "execution": {
     "iopub.execute_input": "2024-09-27T03:31:03.323622Z",
     "iopub.status.busy": "2024-09-27T03:31:03.322669Z",
     "iopub.status.idle": "2024-09-27T03:31:03.328541Z",
     "shell.execute_reply": "2024-09-27T03:31:03.327264Z",
     "shell.execute_reply.started": "2024-09-27T03:31:03.323570Z"
    }
   },
   "outputs": [],
   "source": [
    "for i,dataset_ in enumerate([dataset for dataset in os.listdir(path_dataset) if dataset[-8:] != 'bert.pth' and dataset.endswith('.pth')]):\n",
    "    print(dataset_)\n",
    "    dataset = torch.load(path_dataset+dataset_)\n",
    "    gcn = GCN_RES(dataset.num_node_features, dataset.num_node_features, dataset.num_classes, layers[i]).to(device)\n",
    "    criterion = torch.nn.CrossEntropyLoss()\n",
    "    optimizer = torch.optim.Adam(gcn.parameters(), lr=1e-3, weight_decay=5e-4)\n",
    "    train(gcn, dataset, optimizer, criterion, path_model_out+dataset_, epochs=250)\n",
    "    result = test(gcn, dataset)\n",
    "    print(result)"
   ]
  },
  {
   "cell_type": "markdown",
   "id": "0c573f83-9af3-4c47-81c2-a4f24f181fe5",
   "metadata": {},
   "source": [
    "### bert"
   ]
  },
  {
   "cell_type": "code",
   "execution_count": 1,
   "id": "91253706-09de-46a8-86c9-530b8cfb87d9",
   "metadata": {
    "execution": {
     "iopub.execute_input": "2024-09-28T15:03:10.259570Z",
     "iopub.status.busy": "2024-09-28T15:03:10.258776Z",
     "iopub.status.idle": "2024-09-28T15:03:10.265088Z",
     "shell.execute_reply": "2024-09-28T15:03:10.263936Z",
     "shell.execute_reply.started": "2024-09-28T15:03:10.259515Z"
    }
   },
   "outputs": [],
   "source": [
    "layers = [3, 2, 2]\n",
    "for i,dataset_ in enumerate([dataset for dataset in os.listdir(path_dataset) if dataset[-8:] == 'bert.pth' and dataset.endswith('.pth')]):\n",
    "    print(dataset_)\n",
    "    dataset = torch.load(path_dataset+dataset_).to(device)\n",
    "    gcn = GCN_RES(dataset.num_node_features, dataset.num_node_features, dataset.num_classes, layers[i]).to(device)\n",
    "    criterion = torch.nn.CrossEntropyLoss()\n",
    "    optimizer = torch.optim.Adam(gcn.parameters(), lr=1e-3, weight_decay=5e-4)\n",
    "    train(gcn, dataset, optimizer, criterion, path_model_out+dataset_, epochs=250)\n",
    "    result = test(gcn, dataset)\n",
    "    print(result)"
   ]
  }
 ],
 "metadata": {
  "kernelspec": {
   "display_name": "ufz39",
   "language": "python",
   "name": "torch39"
  },
  "language_info": {
   "codemirror_mode": {
    "name": "ipython",
    "version": 3
   },
   "file_extension": ".py",
   "mimetype": "text/x-python",
   "name": "python",
   "nbconvert_exporter": "python",
   "pygments_lexer": "ipython3",
   "version": "3.9.0"
  },
  "widgets": {
   "application/vnd.jupyter.widget-state+json": {
    "state": {},
    "version_major": 2,
    "version_minor": 0
   }
  }
 },
 "nbformat": 4,
 "nbformat_minor": 5
}
